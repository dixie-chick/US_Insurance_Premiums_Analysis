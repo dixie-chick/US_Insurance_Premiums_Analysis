{
 "cells": [
  {
   "cell_type": "code",
   "execution_count": 4,
   "id": "df8356d9",
   "metadata": {},
   "outputs": [],
   "source": [
    "# Deliverables:\n",
    "#1. convert bmi to range interger 1) under 2) ideal 3) over 4) obese\n",
    "#2. convert smoker to integer\n",
    "#3. convert region to integer\n"
   ]
  },
  {
   "cell_type": "code",
<<<<<<< HEAD:Insurance_Clean.ipynb
   "execution_count": 1,
=======
   "execution_count": 5,
   "id": "06b8c6d1",
>>>>>>> e898df2e70d36558320f5c1aeceb1003e11e7191:Explore_Data.ipynb
   "metadata": {},
   "outputs": [],
   "source": [
    "# Import Dependencies\n",
    "import pandas as pd\n"
   ]
  },
  {
   "cell_type": "code",
<<<<<<< HEAD:Insurance_Clean.ipynb
   "execution_count": 2,
=======
   "execution_count": 6,
   "id": "fe22a9b8",
>>>>>>> e898df2e70d36558320f5c1aeceb1003e11e7191:Explore_Data.ipynb
   "metadata": {},
   "outputs": [
    {
     "data": {
      "text/html": [
       "<div>\n",
       "<style scoped>\n",
       "    .dataframe tbody tr th:only-of-type {\n",
       "        vertical-align: middle;\n",
       "    }\n",
       "\n",
       "    .dataframe tbody tr th {\n",
       "        vertical-align: top;\n",
       "    }\n",
       "\n",
       "    .dataframe thead th {\n",
       "        text-align: right;\n",
       "    }\n",
       "</style>\n",
       "<table border=\"1\" class=\"dataframe\">\n",
       "  <thead>\n",
       "    <tr style=\"text-align: right;\">\n",
       "      <th></th>\n",
       "      <th>age</th>\n",
       "      <th>sex</th>\n",
       "      <th>bmi</th>\n",
       "      <th>children</th>\n",
       "      <th>smoker</th>\n",
       "      <th>region</th>\n",
       "      <th>charges</th>\n",
       "    </tr>\n",
       "  </thead>\n",
       "  <tbody>\n",
       "    <tr>\n",
       "      <th>0</th>\n",
       "      <td>19</td>\n",
       "      <td>female</td>\n",
       "      <td>27.900</td>\n",
       "      <td>0</td>\n",
       "      <td>yes</td>\n",
       "      <td>southwest</td>\n",
       "      <td>16884.92400</td>\n",
       "    </tr>\n",
       "    <tr>\n",
       "      <th>1</th>\n",
       "      <td>18</td>\n",
       "      <td>male</td>\n",
       "      <td>33.770</td>\n",
       "      <td>1</td>\n",
       "      <td>no</td>\n",
       "      <td>southeast</td>\n",
       "      <td>1725.55230</td>\n",
       "    </tr>\n",
       "    <tr>\n",
       "      <th>2</th>\n",
       "      <td>28</td>\n",
       "      <td>male</td>\n",
       "      <td>33.000</td>\n",
       "      <td>3</td>\n",
       "      <td>no</td>\n",
       "      <td>southeast</td>\n",
       "      <td>4449.46200</td>\n",
       "    </tr>\n",
       "    <tr>\n",
       "      <th>3</th>\n",
       "      <td>33</td>\n",
       "      <td>male</td>\n",
       "      <td>22.705</td>\n",
       "      <td>0</td>\n",
       "      <td>no</td>\n",
       "      <td>northwest</td>\n",
       "      <td>21984.47061</td>\n",
       "    </tr>\n",
       "    <tr>\n",
       "      <th>4</th>\n",
       "      <td>32</td>\n",
       "      <td>male</td>\n",
       "      <td>28.880</td>\n",
       "      <td>0</td>\n",
       "      <td>no</td>\n",
       "      <td>northwest</td>\n",
       "      <td>3866.85520</td>\n",
       "    </tr>\n",
       "    <tr>\n",
       "      <th>5</th>\n",
       "      <td>31</td>\n",
       "      <td>female</td>\n",
       "      <td>25.740</td>\n",
       "      <td>0</td>\n",
       "      <td>no</td>\n",
       "      <td>southeast</td>\n",
       "      <td>3756.62160</td>\n",
       "    </tr>\n",
       "    <tr>\n",
       "      <th>6</th>\n",
       "      <td>46</td>\n",
       "      <td>female</td>\n",
       "      <td>33.440</td>\n",
       "      <td>1</td>\n",
       "      <td>no</td>\n",
       "      <td>southeast</td>\n",
       "      <td>8240.58960</td>\n",
       "    </tr>\n",
       "    <tr>\n",
       "      <th>7</th>\n",
       "      <td>37</td>\n",
       "      <td>female</td>\n",
       "      <td>27.740</td>\n",
       "      <td>3</td>\n",
       "      <td>no</td>\n",
       "      <td>northwest</td>\n",
       "      <td>7281.50560</td>\n",
       "    </tr>\n",
       "    <tr>\n",
       "      <th>8</th>\n",
       "      <td>37</td>\n",
       "      <td>male</td>\n",
       "      <td>29.830</td>\n",
       "      <td>2</td>\n",
       "      <td>no</td>\n",
       "      <td>northeast</td>\n",
       "      <td>6406.41070</td>\n",
       "    </tr>\n",
       "    <tr>\n",
       "      <th>9</th>\n",
       "      <td>60</td>\n",
       "      <td>female</td>\n",
       "      <td>25.840</td>\n",
       "      <td>0</td>\n",
       "      <td>no</td>\n",
       "      <td>northwest</td>\n",
       "      <td>28923.13692</td>\n",
       "    </tr>\n",
       "  </tbody>\n",
       "</table>\n",
       "</div>"
      ],
      "text/plain": [
       "   age     sex     bmi  children smoker     region      charges\n",
       "0   19  female  27.900         0    yes  southwest  16884.92400\n",
       "1   18    male  33.770         1     no  southeast   1725.55230\n",
       "2   28    male  33.000         3     no  southeast   4449.46200\n",
       "3   33    male  22.705         0     no  northwest  21984.47061\n",
       "4   32    male  28.880         0     no  northwest   3866.85520\n",
       "5   31  female  25.740         0     no  southeast   3756.62160\n",
       "6   46  female  33.440         1     no  southeast   8240.58960\n",
       "7   37  female  27.740         3     no  northwest   7281.50560\n",
       "8   37    male  29.830         2     no  northeast   6406.41070\n",
       "9   60  female  25.840         0     no  northwest  28923.13692"
      ]
     },
<<<<<<< HEAD:Insurance_Clean.ipynb
     "execution_count": 2,
=======
     "execution_count": 6,
>>>>>>> e898df2e70d36558320f5c1aeceb1003e11e7191:Explore_Data.ipynb
     "metadata": {},
     "output_type": "execute_result"
    }
   ],
   "source": [
    "# Load in the data\n",
    "insurance_df = pd.read_csv(\"insurance.csv\")\n",
    "insurance_df.head(10)"
   ]
  },
  {
   "cell_type": "code",
<<<<<<< HEAD:Insurance_Clean.ipynb
   "execution_count": 3,
=======
   "execution_count": 7,
   "id": "ada11ce2",
>>>>>>> e898df2e70d36558320f5c1aeceb1003e11e7191:Explore_Data.ipynb
   "metadata": {},
   "outputs": [
    {
     "data": {
      "text/plain": [
       "age           int64\n",
       "sex          object\n",
       "bmi         float64\n",
       "children      int64\n",
       "smoker       object\n",
       "region       object\n",
       "charges     float64\n",
       "dtype: object"
      ]
     },
<<<<<<< HEAD:Insurance_Clean.ipynb
     "execution_count": 3,
=======
     "execution_count": 7,
>>>>>>> e898df2e70d36558320f5c1aeceb1003e11e7191:Explore_Data.ipynb
     "metadata": {},
     "output_type": "execute_result"
    }
   ],
   "source": [
    "# Inspect data types\n",
    "insurance_df.dtypes"
   ]
  },
  {
   "cell_type": "code",
<<<<<<< HEAD:Insurance_Clean.ipynb
   "execution_count": 4,
=======
   "execution_count": 8,
   "id": "9e58cae8",
>>>>>>> e898df2e70d36558320f5c1aeceb1003e11e7191:Explore_Data.ipynb
   "metadata": {},
   "outputs": [
    {
     "data": {
      "text/plain": [
       "Index(['age', 'sex', 'bmi', 'children', 'smoker', 'region', 'charges'], dtype='object')"
      ]
     },
<<<<<<< HEAD:Insurance_Clean.ipynb
     "execution_count": 4,
=======
     "execution_count": 8,
>>>>>>> e898df2e70d36558320f5c1aeceb1003e11e7191:Explore_Data.ipynb
     "metadata": {},
     "output_type": "execute_result"
    }
   ],
   "source": [
    "# check out columns\n",
    "insurance_df.columns"
   ]
  },
  {
   "cell_type": "code",
<<<<<<< HEAD:Insurance_Clean.ipynb
   "execution_count": 5,
=======
   "execution_count": 9,
   "id": "876ff4ad",
>>>>>>> e898df2e70d36558320f5c1aeceb1003e11e7191:Explore_Data.ipynb
   "metadata": {},
   "outputs": [
    {
     "name": "stdout",
     "output_type": "stream",
     "text": [
      "Column age has 0 null values\n",
      "Column sex has 0 null values\n",
      "Column bmi has 0 null values\n",
      "Column children has 0 null values\n",
      "Column smoker has 0 null values\n",
      "Column region has 0 null values\n",
      "Column charges has 0 null values\n"
     ]
    }
   ],
   "source": [
    "# Check for missing data\n",
    "for column in insurance_df.columns:\n",
    "        print(f\"Column {column} has {insurance_df[column].isnull().sum()} null values\")"
   ]
  },
  {
   "cell_type": "code",
<<<<<<< HEAD:Insurance_Clean.ipynb
   "execution_count": 6,
=======
   "execution_count": 10,
   "id": "89f41bea",
>>>>>>> e898df2e70d36558320f5c1aeceb1003e11e7191:Explore_Data.ipynb
   "metadata": {},
   "outputs": [
    {
     "name": "stdout",
     "output_type": "stream",
     "text": [
      "Duplicate entries: 1\n"
     ]
    }
   ],
   "source": [
    "# Check for Duplicates\n",
    "print (f\"Duplicate entries: {insurance_df.duplicated().sum()}\")"
   ]
  },
  {
   "cell_type": "code",
<<<<<<< HEAD:Insurance_Clean.ipynb
   "execution_count": 7,
=======
   "execution_count": 11,
   "id": "bfec1915",
>>>>>>> e898df2e70d36558320f5c1aeceb1003e11e7191:Explore_Data.ipynb
   "metadata": {},
   "outputs": [
    {
     "data": {
      "text/html": [
       "<div>\n",
       "<style scoped>\n",
       "    .dataframe tbody tr th:only-of-type {\n",
       "        vertical-align: middle;\n",
       "    }\n",
       "\n",
       "    .dataframe tbody tr th {\n",
       "        vertical-align: top;\n",
       "    }\n",
       "\n",
       "    .dataframe thead th {\n",
       "        text-align: right;\n",
       "    }\n",
       "</style>\n",
       "<table border=\"1\" class=\"dataframe\">\n",
       "  <thead>\n",
       "    <tr style=\"text-align: right;\">\n",
       "      <th></th>\n",
       "      <th>age</th>\n",
       "      <th>sex</th>\n",
       "      <th>bmi</th>\n",
       "      <th>children</th>\n",
       "      <th>smoker</th>\n",
       "      <th>region</th>\n",
       "      <th>charges</th>\n",
       "    </tr>\n",
       "  </thead>\n",
       "  <tbody>\n",
       "    <tr>\n",
       "      <th>0</th>\n",
       "      <td>19</td>\n",
       "      <td>female</td>\n",
       "      <td>27.900</td>\n",
       "      <td>0</td>\n",
       "      <td>yes</td>\n",
       "      <td>southwest</td>\n",
       "      <td>16884.92400</td>\n",
       "    </tr>\n",
       "    <tr>\n",
       "      <th>1</th>\n",
       "      <td>18</td>\n",
       "      <td>male</td>\n",
       "      <td>33.770</td>\n",
       "      <td>1</td>\n",
       "      <td>no</td>\n",
       "      <td>southeast</td>\n",
       "      <td>1725.55230</td>\n",
       "    </tr>\n",
       "    <tr>\n",
       "      <th>2</th>\n",
       "      <td>28</td>\n",
       "      <td>male</td>\n",
       "      <td>33.000</td>\n",
       "      <td>3</td>\n",
       "      <td>no</td>\n",
       "      <td>southeast</td>\n",
       "      <td>4449.46200</td>\n",
       "    </tr>\n",
       "    <tr>\n",
       "      <th>3</th>\n",
       "      <td>33</td>\n",
       "      <td>male</td>\n",
       "      <td>22.705</td>\n",
       "      <td>0</td>\n",
       "      <td>no</td>\n",
       "      <td>northwest</td>\n",
       "      <td>21984.47061</td>\n",
       "    </tr>\n",
       "    <tr>\n",
       "      <th>4</th>\n",
       "      <td>32</td>\n",
       "      <td>male</td>\n",
       "      <td>28.880</td>\n",
       "      <td>0</td>\n",
       "      <td>no</td>\n",
       "      <td>northwest</td>\n",
       "      <td>3866.85520</td>\n",
       "    </tr>\n",
       "    <tr>\n",
       "      <th>...</th>\n",
       "      <td>...</td>\n",
       "      <td>...</td>\n",
       "      <td>...</td>\n",
       "      <td>...</td>\n",
       "      <td>...</td>\n",
       "      <td>...</td>\n",
       "      <td>...</td>\n",
       "    </tr>\n",
       "    <tr>\n",
       "      <th>1333</th>\n",
       "      <td>50</td>\n",
       "      <td>male</td>\n",
       "      <td>30.970</td>\n",
       "      <td>3</td>\n",
       "      <td>no</td>\n",
       "      <td>northwest</td>\n",
       "      <td>10600.54830</td>\n",
       "    </tr>\n",
       "    <tr>\n",
       "      <th>1334</th>\n",
       "      <td>18</td>\n",
       "      <td>female</td>\n",
       "      <td>31.920</td>\n",
       "      <td>0</td>\n",
       "      <td>no</td>\n",
       "      <td>northeast</td>\n",
       "      <td>2205.98080</td>\n",
       "    </tr>\n",
       "    <tr>\n",
       "      <th>1335</th>\n",
       "      <td>18</td>\n",
       "      <td>female</td>\n",
       "      <td>36.850</td>\n",
       "      <td>0</td>\n",
       "      <td>no</td>\n",
       "      <td>southeast</td>\n",
       "      <td>1629.83350</td>\n",
       "    </tr>\n",
       "    <tr>\n",
       "      <th>1336</th>\n",
       "      <td>21</td>\n",
       "      <td>female</td>\n",
       "      <td>25.800</td>\n",
       "      <td>0</td>\n",
       "      <td>no</td>\n",
       "      <td>southwest</td>\n",
       "      <td>2007.94500</td>\n",
       "    </tr>\n",
       "    <tr>\n",
       "      <th>1337</th>\n",
       "      <td>61</td>\n",
       "      <td>female</td>\n",
       "      <td>29.070</td>\n",
       "      <td>0</td>\n",
       "      <td>yes</td>\n",
       "      <td>northwest</td>\n",
       "      <td>29141.36030</td>\n",
       "    </tr>\n",
       "  </tbody>\n",
       "</table>\n",
       "<p>1337 rows × 7 columns</p>\n",
       "</div>"
      ],
      "text/plain": [
       "      age     sex     bmi  children smoker     region      charges\n",
       "0      19  female  27.900         0    yes  southwest  16884.92400\n",
       "1      18    male  33.770         1     no  southeast   1725.55230\n",
       "2      28    male  33.000         3     no  southeast   4449.46200\n",
       "3      33    male  22.705         0     no  northwest  21984.47061\n",
       "4      32    male  28.880         0     no  northwest   3866.85520\n",
       "...   ...     ...     ...       ...    ...        ...          ...\n",
       "1333   50    male  30.970         3     no  northwest  10600.54830\n",
       "1334   18  female  31.920         0     no  northeast   2205.98080\n",
       "1335   18  female  36.850         0     no  southeast   1629.83350\n",
       "1336   21  female  25.800         0     no  southwest   2007.94500\n",
       "1337   61  female  29.070         0    yes  northwest  29141.36030\n",
       "\n",
       "[1337 rows x 7 columns]"
      ]
     },
<<<<<<< HEAD:Insurance_Clean.ipynb
     "execution_count": 7,
=======
     "execution_count": 11,
>>>>>>> e898df2e70d36558320f5c1aeceb1003e11e7191:Explore_Data.ipynb
     "metadata": {},
     "output_type": "execute_result"
    }
   ],
   "source": [
    "# Drop duplicate entry\n",
    "insurance_df.drop_duplicates()"
   ]
  },
  {
   "cell_type": "code",
<<<<<<< HEAD:Insurance_Clean.ipynb
   "execution_count": 8,
=======
   "execution_count": 12,
   "id": "93b43c61",
>>>>>>> e898df2e70d36558320f5c1aeceb1003e11e7191:Explore_Data.ipynb
   "metadata": {},
   "outputs": [
    {
     "data": {
      "text/plain": [
       "array(['southwest', 'southeast', 'northwest', 'northeast'], dtype=object)"
      ]
     },
<<<<<<< HEAD:Insurance_Clean.ipynb
     "execution_count": 8,
=======
     "execution_count": 12,
>>>>>>> e898df2e70d36558320f5c1aeceb1003e11e7191:Explore_Data.ipynb
     "metadata": {},
     "output_type": "execute_result"
    }
   ],
   "source": [
    "# Find unique values region\n",
    "insurance_df[\"region\"].unique()"
   ]
  },
  {
   "cell_type": "markdown",
   "id": "37626eff",
   "metadata": {},
   "source": [
    "# STEP 2 TRANSFORM"
   ]
  },
  {
   "cell_type": "code",
<<<<<<< HEAD:Insurance_Clean.ipynb
   "execution_count": 14,
=======
   "execution_count": 13,
   "id": "30de904a",
>>>>>>> e898df2e70d36558320f5c1aeceb1003e11e7191:Explore_Data.ipynb
   "metadata": {},
   "outputs": [
    {
     "data": {
      "text/html": [
       "<div>\n",
       "<style scoped>\n",
       "    .dataframe tbody tr th:only-of-type {\n",
       "        vertical-align: middle;\n",
       "    }\n",
       "\n",
       "    .dataframe tbody tr th {\n",
       "        vertical-align: top;\n",
       "    }\n",
       "\n",
       "    .dataframe thead th {\n",
       "        text-align: right;\n",
       "    }\n",
       "</style>\n",
       "<table border=\"1\" class=\"dataframe\">\n",
       "  <thead>\n",
       "    <tr style=\"text-align: right;\">\n",
       "      <th></th>\n",
       "      <th>age</th>\n",
       "      <th>bmi</th>\n",
       "      <th>children</th>\n",
       "      <th>charges</th>\n",
       "      <th>smoker_no</th>\n",
       "      <th>smoker_yes</th>\n",
       "      <th>sex_female</th>\n",
       "      <th>sex_male</th>\n",
       "      <th>region_northeast</th>\n",
       "      <th>region_northwest</th>\n",
       "      <th>region_southeast</th>\n",
       "      <th>region_southwest</th>\n",
       "    </tr>\n",
       "  </thead>\n",
       "  <tbody>\n",
       "    <tr>\n",
       "      <th>0</th>\n",
       "      <td>19</td>\n",
       "      <td>27.900</td>\n",
       "      <td>0</td>\n",
       "      <td>16884.92400</td>\n",
       "      <td>0</td>\n",
       "      <td>1</td>\n",
       "      <td>1</td>\n",
       "      <td>0</td>\n",
       "      <td>0</td>\n",
       "      <td>0</td>\n",
       "      <td>0</td>\n",
       "      <td>1</td>\n",
       "    </tr>\n",
       "    <tr>\n",
       "      <th>1</th>\n",
       "      <td>18</td>\n",
       "      <td>33.770</td>\n",
       "      <td>1</td>\n",
       "      <td>1725.55230</td>\n",
       "      <td>1</td>\n",
       "      <td>0</td>\n",
       "      <td>0</td>\n",
       "      <td>1</td>\n",
       "      <td>0</td>\n",
       "      <td>0</td>\n",
       "      <td>1</td>\n",
       "      <td>0</td>\n",
       "    </tr>\n",
       "    <tr>\n",
       "      <th>2</th>\n",
       "      <td>28</td>\n",
       "      <td>33.000</td>\n",
       "      <td>3</td>\n",
       "      <td>4449.46200</td>\n",
       "      <td>1</td>\n",
       "      <td>0</td>\n",
       "      <td>0</td>\n",
       "      <td>1</td>\n",
       "      <td>0</td>\n",
       "      <td>0</td>\n",
       "      <td>1</td>\n",
       "      <td>0</td>\n",
       "    </tr>\n",
       "    <tr>\n",
       "      <th>3</th>\n",
       "      <td>33</td>\n",
       "      <td>22.705</td>\n",
       "      <td>0</td>\n",
       "      <td>21984.47061</td>\n",
       "      <td>1</td>\n",
       "      <td>0</td>\n",
       "      <td>0</td>\n",
       "      <td>1</td>\n",
       "      <td>0</td>\n",
       "      <td>1</td>\n",
       "      <td>0</td>\n",
       "      <td>0</td>\n",
       "    </tr>\n",
       "    <tr>\n",
       "      <th>4</th>\n",
       "      <td>32</td>\n",
       "      <td>28.880</td>\n",
       "      <td>0</td>\n",
       "      <td>3866.85520</td>\n",
       "      <td>1</td>\n",
       "      <td>0</td>\n",
       "      <td>0</td>\n",
       "      <td>1</td>\n",
       "      <td>0</td>\n",
       "      <td>1</td>\n",
       "      <td>0</td>\n",
       "      <td>0</td>\n",
       "    </tr>\n",
       "  </tbody>\n",
       "</table>\n",
       "</div>"
      ],
      "text/plain": [
       "   age     bmi  children      charges  smoker_no  smoker_yes  sex_female  \\\n",
       "0   19  27.900         0  16884.92400          0           1           1   \n",
       "1   18  33.770         1   1725.55230          1           0           0   \n",
       "2   28  33.000         3   4449.46200          1           0           0   \n",
       "3   33  22.705         0  21984.47061          1           0           0   \n",
       "4   32  28.880         0   3866.85520          1           0           0   \n",
       "\n",
       "   sex_male  region_northeast  region_northwest  region_southeast  \\\n",
       "0         0                 0                 0                 0   \n",
       "1         1                 0                 0                 1   \n",
       "2         1                 0                 0                 1   \n",
       "3         1                 0                 1                 0   \n",
       "4         1                 0                 1                 0   \n",
       "\n",
       "   region_southwest  \n",
       "0                 1  \n",
       "1                 0  \n",
       "2                 0  \n",
       "3                 0  \n",
       "4                 0  "
      ]
     },
<<<<<<< HEAD:Insurance_Clean.ipynb
     "execution_count": 14,
=======
     "execution_count": 13,
>>>>>>> e898df2e70d36558320f5c1aeceb1003e11e7191:Explore_Data.ipynb
     "metadata": {},
     "output_type": "execute_result"
    }
   ],
   "source": [
    "#Change Strings to Integers\n",
    "# pd.get_dummies(insurance_df[\"smoker\"])\n",
    "# pd.get_dummies(insurance_df[\"sex\"])\n",
    "#insurance_df[\"smoker\"] = insurance_df[\"smoker\"].replace(\"yes\" : 1, \"no\" : 0)\n",
    "insurance_encoded = pd.get_dummies(insurance_df, columns=[\"smoker\", \"sex\", \"region\"])\n",
    "insurance_encoded.head()"
   ]
  },
  {
   "cell_type": "code",
<<<<<<< HEAD:Insurance_Clean.ipynb
   "execution_count": 10,
=======
   "execution_count": 14,
   "id": "f523a9d9",
>>>>>>> e898df2e70d36558320f5c1aeceb1003e11e7191:Explore_Data.ipynb
   "metadata": {},
   "outputs": [],
   "source": [
    "# group bmi into buckets\n",
    "# def change_string(bmi):\n",
    "#     if bmi <= 18.5 :\n",
    "#         return 0\n",
    "#     else: bmi > 18.5 < 24.9\n",
    "#         return 1\n",
    "#     else: bmi > 25-29.9\n",
    "#         return 0\n",
    "#     else: >30\n",
    "#         return 0\n",
    "# insurance_encoded['bmi'] = insurance_encoded['bmi'].apply(change_string)\n",
    "# insurance_df.head()"
   ]
  },
  {
   "cell_type": "code",
<<<<<<< HEAD:Insurance_Clean.ipynb
   "execution_count": 11,
=======
   "execution_count": 15,
   "id": "bafd41c3",
>>>>>>> e898df2e70d36558320f5c1aeceb1003e11e7191:Explore_Data.ipynb
   "metadata": {},
   "outputs": [],
   "source": [
    "# assign regions to integers\n",
    "# drop regions since they don't add value\n",
    "# insurance_encoded.drop(\"region\", axis =1, inplace =True)\n"
   ]
  },
  {
   "cell_type": "code",
<<<<<<< HEAD:Insurance_Clean.ipynb
   "execution_count": 15,
=======
   "execution_count": 16,
   "id": "9ece4364",
>>>>>>> e898df2e70d36558320f5c1aeceb1003e11e7191:Explore_Data.ipynb
   "metadata": {},
   "outputs": [
    {
     "data": {
      "text/html": [
       "<div>\n",
       "<style scoped>\n",
       "    .dataframe tbody tr th:only-of-type {\n",
       "        vertical-align: middle;\n",
       "    }\n",
       "\n",
       "    .dataframe tbody tr th {\n",
       "        vertical-align: top;\n",
       "    }\n",
       "\n",
       "    .dataframe thead th {\n",
       "        text-align: right;\n",
       "    }\n",
       "</style>\n",
       "<table border=\"1\" class=\"dataframe\">\n",
       "  <thead>\n",
       "    <tr style=\"text-align: right;\">\n",
       "      <th></th>\n",
       "      <th>age</th>\n",
       "      <th>bmi</th>\n",
       "      <th>children</th>\n",
       "      <th>charges</th>\n",
       "      <th>smoker_no</th>\n",
       "      <th>smoker_yes</th>\n",
       "      <th>sex_female</th>\n",
       "      <th>sex_male</th>\n",
       "      <th>region_northeast</th>\n",
       "      <th>region_northwest</th>\n",
       "      <th>region_southeast</th>\n",
       "      <th>region_southwest</th>\n",
       "    </tr>\n",
       "  </thead>\n",
       "  <tbody>\n",
       "    <tr>\n",
       "      <th>0</th>\n",
       "      <td>19</td>\n",
       "      <td>27.900</td>\n",
       "      <td>0</td>\n",
       "      <td>16884.92400</td>\n",
       "      <td>0</td>\n",
       "      <td>1</td>\n",
       "      <td>1</td>\n",
       "      <td>0</td>\n",
       "      <td>0</td>\n",
       "      <td>0</td>\n",
       "      <td>0</td>\n",
       "      <td>1</td>\n",
       "    </tr>\n",
       "    <tr>\n",
       "      <th>1</th>\n",
       "      <td>18</td>\n",
       "      <td>33.770</td>\n",
       "      <td>1</td>\n",
       "      <td>1725.55230</td>\n",
       "      <td>1</td>\n",
       "      <td>0</td>\n",
       "      <td>0</td>\n",
       "      <td>1</td>\n",
       "      <td>0</td>\n",
       "      <td>0</td>\n",
       "      <td>1</td>\n",
       "      <td>0</td>\n",
       "    </tr>\n",
       "    <tr>\n",
       "      <th>2</th>\n",
       "      <td>28</td>\n",
       "      <td>33.000</td>\n",
       "      <td>3</td>\n",
       "      <td>4449.46200</td>\n",
       "      <td>1</td>\n",
       "      <td>0</td>\n",
       "      <td>0</td>\n",
       "      <td>1</td>\n",
       "      <td>0</td>\n",
       "      <td>0</td>\n",
       "      <td>1</td>\n",
       "      <td>0</td>\n",
       "    </tr>\n",
       "    <tr>\n",
       "      <th>3</th>\n",
       "      <td>33</td>\n",
       "      <td>22.705</td>\n",
       "      <td>0</td>\n",
       "      <td>21984.47061</td>\n",
       "      <td>1</td>\n",
       "      <td>0</td>\n",
       "      <td>0</td>\n",
       "      <td>1</td>\n",
       "      <td>0</td>\n",
       "      <td>1</td>\n",
       "      <td>0</td>\n",
       "      <td>0</td>\n",
       "    </tr>\n",
       "    <tr>\n",
       "      <th>4</th>\n",
       "      <td>32</td>\n",
       "      <td>28.880</td>\n",
       "      <td>0</td>\n",
       "      <td>3866.85520</td>\n",
       "      <td>1</td>\n",
       "      <td>0</td>\n",
       "      <td>0</td>\n",
       "      <td>1</td>\n",
       "      <td>0</td>\n",
       "      <td>1</td>\n",
       "      <td>0</td>\n",
       "      <td>0</td>\n",
       "    </tr>\n",
       "  </tbody>\n",
       "</table>\n",
       "</div>"
      ],
      "text/plain": [
       "   age     bmi  children      charges  smoker_no  smoker_yes  sex_female  \\\n",
       "0   19  27.900         0  16884.92400          0           1           1   \n",
       "1   18  33.770         1   1725.55230          1           0           0   \n",
       "2   28  33.000         3   4449.46200          1           0           0   \n",
       "3   33  22.705         0  21984.47061          1           0           0   \n",
       "4   32  28.880         0   3866.85520          1           0           0   \n",
       "\n",
       "   sex_male  region_northeast  region_northwest  region_southeast  \\\n",
       "0         0                 0                 0                 0   \n",
       "1         1                 0                 0                 1   \n",
       "2         1                 0                 0                 1   \n",
       "3         1                 0                 1                 0   \n",
       "4         1                 0                 1                 0   \n",
       "\n",
       "   region_southwest  \n",
       "0                 1  \n",
       "1                 0  \n",
       "2                 0  \n",
       "3                 0  \n",
       "4                 0  "
      ]
     },
<<<<<<< HEAD:Insurance_Clean.ipynb
     "execution_count": 15,
=======
     "execution_count": 16,
>>>>>>> e898df2e70d36558320f5c1aeceb1003e11e7191:Explore_Data.ipynb
     "metadata": {},
     "output_type": "execute_result"
    }
   ],
   "source": [
    "insurance_encoded.head()"
   ]
  },
  {
   "cell_type": "code",
<<<<<<< HEAD:Insurance_Clean.ipynb
   "execution_count": 16,
=======
   "execution_count": 18,
   "id": "76ffd723",
>>>>>>> e898df2e70d36558320f5c1aeceb1003e11e7191:Explore_Data.ipynb
   "metadata": {},
   "outputs": [],
   "source": [
    "# Saving cleaned data\n",
    "file_path = \"insurance_cleaned_full.csv\"\n",
    "insurance_encoded.to_csv(file_path, index=False)"
   ]
  }
 ],
 "metadata": {
  "kernelspec": {
   "display_name": "mlenv",
   "language": "python",
   "name": "mlenv"
  },
  "language_info": {
   "codemirror_mode": {
    "name": "ipython",
    "version": 3
   },
   "file_extension": ".py",
   "mimetype": "text/x-python",
   "name": "python",
   "nbconvert_exporter": "python",
   "pygments_lexer": "ipython3",
<<<<<<< HEAD:Insurance_Clean.ipynb
   "version": "3.7.9"
=======
   "version": "3.7.10"
>>>>>>> e898df2e70d36558320f5c1aeceb1003e11e7191:Explore_Data.ipynb
  }
 },
 "nbformat": 4,
 "nbformat_minor": 5
}
